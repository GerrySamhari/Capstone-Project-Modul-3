{
 "cells": [
  {
   "cell_type": "markdown",
   "metadata": {},
   "source": [
    "**Data California House**"
   ]
  },
  {
   "cell_type": "markdown",
   "metadata": {},
   "source": [
    "[Sumber Dataset Data California House](https://www.kaggle.com/datasets/camnugent/california-housing-prices)"
   ]
  },
  {
   "cell_type": "markdown",
   "metadata": {},
   "source": [
    "**CONTENTS**\n",
    "1. Business Problem Understanding\n",
    "2. Data Understanding\n",
    "3. Data Preprocessing\n",
    "4. Modeling\n",
    "5. Conclusion\n",
    "6. Recommendation"
   ]
  },
  {
   "cell_type": "markdown",
   "metadata": {},
   "source": [
    "### Business Problem Understanding\n"
   ]
  },
  {
   "cell_type": "markdown",
   "metadata": {},
   "source": [
    "**Context**\n",
    "Ini adalah kumpulan data yang digunakan dalam bab kedua dari buku terbaru Aurélien Géron dengan judul 'Hands-On Machine learning with Scikit-Learn and TensorFlow'\n",
    "\n",
    "Dataset ini berisi informasi dari sensus California 1990. Isi data berkaitan dengan rumah-rumah yang ditemukan di distrik California tertentu dan beberapa ringkasan statistik tentang mereka berdasarkan data sensus 1990. Kolom-kolomnya adalah sebagai berikut:\n",
    "- longitude\n",
    "- latitude\n",
    "- housing_median_age\n",
    "- total_rooms\n",
    "- total_bedrooms\n",
    "- population\n",
    "- households\n",
    "- median_income\n",
    "- median_house_value\n",
    "- ocean_proximity\n",
    "\n",
    "**Problem Statement**\n",
    "Apakah dataset ini bisa digunakan untuk membuat suatu model yang dapat memberikan manfaat bagi suatu perusahaan property dan apakah model nya dapat memberikan keuntungan bagi perusahaan tersebut. \n",
    "\n",
    "**Goals**\n",
    "Berdasarkan pada permasalahan yang ada, perusahaan property memerlukan sebuah model *machine learning* yang dapat membantu mereka memprediksi rumah yang ada di california melalui data sensus 1990\n",
    "\n",
    "**Analytic Approach**\n",
    "Data yang ada perlu dianalisis untuk dapat menemukan pola dari fitur-fitur yang ada pada masing-masing property. selanjutnya adalah membuat model regresi yang akan membantu perusahaan untuk menyediakan model prediksi harga\n",
    "\n",
    "**Metric Evaluation**\n",
    "Evaluasi metrik yang akan digunakan adalah RMSE dan MAE, di mana RMSE adalah nilai rataan akar kuadrat dari error, MAE adalah rataan nilai absolut dari error. Semakin kecil nilai RMSE dan MAE yang dihasilkan, berarti model semakin akurat dalam memprediksi harga sesuai dengan limitasi fitur yang digunakan."
   ]
  },
  {
   "cell_type": "markdown",
   "metadata": {},
   "source": [
    "### Data Understanding"
   ]
  },
  {
   "cell_type": "code",
   "execution_count": 228,
   "metadata": {},
   "outputs": [],
   "source": [
    "import numpy as np\n",
    "import pandas as pd\n",
    "import matplotlib.pyplot as plt\n",
    "import seaborn as sns                        \n",
    "import matplotlib.image as mpimg\n",
    "%matplotlib inline\n",
    "from sklearn.neighbors import KNeighborsRegressor\n",
    "from sklearn.metrics import mean_squared_error, r2_score, mean_absolute_error\n",
    "from sklearn.linear_model import LinearRegression           \n",
    "from sklearn.model_selection import train_test_split        \n",
    "from sklearn.model_selection import cross_val_score, GridSearchCV\n",
    "from sklearn.tree import DecisionTreeRegressor\n",
    "from sklearn.preprocessing import StandardScaler, PolynomialFeatures, OrdinalEncoder,MinMaxScaler\n",
    "from sklearn.linear_model import Ridge, Lasso\n",
    "from sklearn.ensemble import RandomForestRegressor\n",
    "from math import sqrt\n",
    "\n",
    "import warnings\n",
    "warnings.filterwarnings(\"ignore\")"
   ]
  },
  {
   "cell_type": "code",
   "execution_count": 229,
   "metadata": {},
   "outputs": [
    {
     "data": {
      "text/html": [
       "<div>\n",
       "<style scoped>\n",
       "    .dataframe tbody tr th:only-of-type {\n",
       "        vertical-align: middle;\n",
       "    }\n",
       "\n",
       "    .dataframe tbody tr th {\n",
       "        vertical-align: top;\n",
       "    }\n",
       "\n",
       "    .dataframe thead th {\n",
       "        text-align: right;\n",
       "    }\n",
       "</style>\n",
       "<table border=\"1\" class=\"dataframe\">\n",
       "  <thead>\n",
       "    <tr style=\"text-align: right;\">\n",
       "      <th></th>\n",
       "      <th>longitude</th>\n",
       "      <th>latitude</th>\n",
       "      <th>housing_median_age</th>\n",
       "      <th>total_rooms</th>\n",
       "      <th>total_bedrooms</th>\n",
       "      <th>population</th>\n",
       "      <th>households</th>\n",
       "      <th>median_income</th>\n",
       "      <th>ocean_proximity</th>\n",
       "      <th>median_house_value</th>\n",
       "    </tr>\n",
       "  </thead>\n",
       "  <tbody>\n",
       "    <tr>\n",
       "      <th>0</th>\n",
       "      <td>-119.79</td>\n",
       "      <td>36.73</td>\n",
       "      <td>52.0</td>\n",
       "      <td>112.0</td>\n",
       "      <td>28.0</td>\n",
       "      <td>193.0</td>\n",
       "      <td>40.0</td>\n",
       "      <td>1.9750</td>\n",
       "      <td>INLAND</td>\n",
       "      <td>47500.0</td>\n",
       "    </tr>\n",
       "    <tr>\n",
       "      <th>1</th>\n",
       "      <td>-122.21</td>\n",
       "      <td>37.77</td>\n",
       "      <td>43.0</td>\n",
       "      <td>1017.0</td>\n",
       "      <td>328.0</td>\n",
       "      <td>836.0</td>\n",
       "      <td>277.0</td>\n",
       "      <td>2.2604</td>\n",
       "      <td>NEAR BAY</td>\n",
       "      <td>100000.0</td>\n",
       "    </tr>\n",
       "    <tr>\n",
       "      <th>2</th>\n",
       "      <td>-118.04</td>\n",
       "      <td>33.87</td>\n",
       "      <td>17.0</td>\n",
       "      <td>2358.0</td>\n",
       "      <td>396.0</td>\n",
       "      <td>1387.0</td>\n",
       "      <td>364.0</td>\n",
       "      <td>6.2990</td>\n",
       "      <td>&lt;1H OCEAN</td>\n",
       "      <td>285800.0</td>\n",
       "    </tr>\n",
       "    <tr>\n",
       "      <th>3</th>\n",
       "      <td>-118.28</td>\n",
       "      <td>34.06</td>\n",
       "      <td>17.0</td>\n",
       "      <td>2518.0</td>\n",
       "      <td>1196.0</td>\n",
       "      <td>3051.0</td>\n",
       "      <td>1000.0</td>\n",
       "      <td>1.7199</td>\n",
       "      <td>&lt;1H OCEAN</td>\n",
       "      <td>175000.0</td>\n",
       "    </tr>\n",
       "    <tr>\n",
       "      <th>4</th>\n",
       "      <td>-119.81</td>\n",
       "      <td>36.73</td>\n",
       "      <td>50.0</td>\n",
       "      <td>772.0</td>\n",
       "      <td>194.0</td>\n",
       "      <td>606.0</td>\n",
       "      <td>167.0</td>\n",
       "      <td>2.2206</td>\n",
       "      <td>INLAND</td>\n",
       "      <td>59200.0</td>\n",
       "    </tr>\n",
       "    <tr>\n",
       "      <th>...</th>\n",
       "      <td>...</td>\n",
       "      <td>...</td>\n",
       "      <td>...</td>\n",
       "      <td>...</td>\n",
       "      <td>...</td>\n",
       "      <td>...</td>\n",
       "      <td>...</td>\n",
       "      <td>...</td>\n",
       "      <td>...</td>\n",
       "      <td>...</td>\n",
       "    </tr>\n",
       "    <tr>\n",
       "      <th>14443</th>\n",
       "      <td>-121.26</td>\n",
       "      <td>38.27</td>\n",
       "      <td>20.0</td>\n",
       "      <td>1314.0</td>\n",
       "      <td>229.0</td>\n",
       "      <td>712.0</td>\n",
       "      <td>219.0</td>\n",
       "      <td>4.4125</td>\n",
       "      <td>INLAND</td>\n",
       "      <td>144600.0</td>\n",
       "    </tr>\n",
       "    <tr>\n",
       "      <th>14444</th>\n",
       "      <td>-120.89</td>\n",
       "      <td>37.48</td>\n",
       "      <td>27.0</td>\n",
       "      <td>1118.0</td>\n",
       "      <td>195.0</td>\n",
       "      <td>647.0</td>\n",
       "      <td>209.0</td>\n",
       "      <td>2.9135</td>\n",
       "      <td>INLAND</td>\n",
       "      <td>159400.0</td>\n",
       "    </tr>\n",
       "    <tr>\n",
       "      <th>14445</th>\n",
       "      <td>-121.90</td>\n",
       "      <td>36.58</td>\n",
       "      <td>31.0</td>\n",
       "      <td>1431.0</td>\n",
       "      <td>NaN</td>\n",
       "      <td>704.0</td>\n",
       "      <td>393.0</td>\n",
       "      <td>3.1977</td>\n",
       "      <td>NEAR OCEAN</td>\n",
       "      <td>289300.0</td>\n",
       "    </tr>\n",
       "    <tr>\n",
       "      <th>14446</th>\n",
       "      <td>-117.93</td>\n",
       "      <td>33.62</td>\n",
       "      <td>34.0</td>\n",
       "      <td>2125.0</td>\n",
       "      <td>498.0</td>\n",
       "      <td>1052.0</td>\n",
       "      <td>468.0</td>\n",
       "      <td>5.6315</td>\n",
       "      <td>&lt;1H OCEAN</td>\n",
       "      <td>484600.0</td>\n",
       "    </tr>\n",
       "    <tr>\n",
       "      <th>14447</th>\n",
       "      <td>-115.56</td>\n",
       "      <td>32.80</td>\n",
       "      <td>15.0</td>\n",
       "      <td>1171.0</td>\n",
       "      <td>328.0</td>\n",
       "      <td>1024.0</td>\n",
       "      <td>298.0</td>\n",
       "      <td>1.3882</td>\n",
       "      <td>INLAND</td>\n",
       "      <td>69400.0</td>\n",
       "    </tr>\n",
       "  </tbody>\n",
       "</table>\n",
       "<p>14448 rows × 10 columns</p>\n",
       "</div>"
      ],
      "text/plain": [
       "       longitude  latitude  housing_median_age  total_rooms  total_bedrooms  \\\n",
       "0        -119.79     36.73                52.0        112.0            28.0   \n",
       "1        -122.21     37.77                43.0       1017.0           328.0   \n",
       "2        -118.04     33.87                17.0       2358.0           396.0   \n",
       "3        -118.28     34.06                17.0       2518.0          1196.0   \n",
       "4        -119.81     36.73                50.0        772.0           194.0   \n",
       "...          ...       ...                 ...          ...             ...   \n",
       "14443    -121.26     38.27                20.0       1314.0           229.0   \n",
       "14444    -120.89     37.48                27.0       1118.0           195.0   \n",
       "14445    -121.90     36.58                31.0       1431.0             NaN   \n",
       "14446    -117.93     33.62                34.0       2125.0           498.0   \n",
       "14447    -115.56     32.80                15.0       1171.0           328.0   \n",
       "\n",
       "       population  households  median_income ocean_proximity  \\\n",
       "0           193.0        40.0         1.9750          INLAND   \n",
       "1           836.0       277.0         2.2604        NEAR BAY   \n",
       "2          1387.0       364.0         6.2990       <1H OCEAN   \n",
       "3          3051.0      1000.0         1.7199       <1H OCEAN   \n",
       "4           606.0       167.0         2.2206          INLAND   \n",
       "...           ...         ...            ...             ...   \n",
       "14443       712.0       219.0         4.4125          INLAND   \n",
       "14444       647.0       209.0         2.9135          INLAND   \n",
       "14445       704.0       393.0         3.1977      NEAR OCEAN   \n",
       "14446      1052.0       468.0         5.6315       <1H OCEAN   \n",
       "14447      1024.0       298.0         1.3882          INLAND   \n",
       "\n",
       "       median_house_value  \n",
       "0                 47500.0  \n",
       "1                100000.0  \n",
       "2                285800.0  \n",
       "3                175000.0  \n",
       "4                 59200.0  \n",
       "...                   ...  \n",
       "14443            144600.0  \n",
       "14444            159400.0  \n",
       "14445            289300.0  \n",
       "14446            484600.0  \n",
       "14447             69400.0  \n",
       "\n",
       "[14448 rows x 10 columns]"
      ]
     },
     "execution_count": 229,
     "metadata": {},
     "output_type": "execute_result"
    }
   ],
   "source": [
    "df = pd.read_csv('data_california_house.csv')\n",
    "df"
   ]
  },
  {
   "cell_type": "code",
   "execution_count": 230,
   "metadata": {},
   "outputs": [
    {
     "data": {
      "text/plain": [
       "Index(['longitude', 'latitude', 'housing_median_age', 'total_rooms',\n",
       "       'total_bedrooms', 'population', 'households', 'median_income',\n",
       "       'ocean_proximity', 'median_house_value'],\n",
       "      dtype='object')"
      ]
     },
     "execution_count": 230,
     "metadata": {},
     "output_type": "execute_result"
    }
   ],
   "source": [
    "df.columns"
   ]
  },
  {
   "cell_type": "markdown",
   "metadata": {},
   "source": [
    "Dataset hanya memiliki 10 kolom"
   ]
  },
  {
   "cell_type": "code",
   "execution_count": 231,
   "metadata": {},
   "outputs": [
    {
     "name": "stdout",
     "output_type": "stream",
     "text": [
      "<class 'pandas.core.frame.DataFrame'>\n",
      "RangeIndex: 14448 entries, 0 to 14447\n",
      "Data columns (total 10 columns):\n",
      " #   Column              Non-Null Count  Dtype  \n",
      "---  ------              --------------  -----  \n",
      " 0   longitude           14448 non-null  float64\n",
      " 1   latitude            14448 non-null  float64\n",
      " 2   housing_median_age  14448 non-null  float64\n",
      " 3   total_rooms         14448 non-null  float64\n",
      " 4   total_bedrooms      14311 non-null  float64\n",
      " 5   population          14448 non-null  float64\n",
      " 6   households          14448 non-null  float64\n",
      " 7   median_income       14448 non-null  float64\n",
      " 8   ocean_proximity     14448 non-null  object \n",
      " 9   median_house_value  14448 non-null  float64\n",
      "dtypes: float64(9), object(1)\n",
      "memory usage: 1.1+ MB\n"
     ]
    }
   ],
   "source": [
    "df.info()"
   ]
  },
  {
   "cell_type": "markdown",
   "metadata": {},
   "source": [
    "### Data Preprocessing\n",
    "\n",
    "Pada tahap ini, data akan dibersihkan untuk digunakan untuk proses analisis selanjutnya "
   ]
  },
  {
   "cell_type": "markdown",
   "metadata": {},
   "source": [
    "Missing Value"
   ]
  },
  {
   "cell_type": "code",
   "execution_count": 232,
   "metadata": {},
   "outputs": [
    {
     "data": {
      "text/plain": [
       "longitude               0\n",
       "latitude                0\n",
       "housing_median_age      0\n",
       "total_rooms             0\n",
       "total_bedrooms        137\n",
       "population              0\n",
       "households              0\n",
       "median_income           0\n",
       "ocean_proximity         0\n",
       "median_house_value      0\n",
       "dtype: int64"
      ]
     },
     "execution_count": 232,
     "metadata": {},
     "output_type": "execute_result"
    }
   ],
   "source": [
    "# cek Missing Value\n",
    "df.isnull().sum()"
   ]
  },
  {
   "cell_type": "code",
   "execution_count": 233,
   "metadata": {},
   "outputs": [
    {
     "data": {
      "text/plain": [
       "longitude             0.000000\n",
       "latitude              0.000000\n",
       "housing_median_age    0.000000\n",
       "total_rooms           0.000000\n",
       "total_bedrooms        0.948228\n",
       "population            0.000000\n",
       "households            0.000000\n",
       "median_income         0.000000\n",
       "ocean_proximity       0.000000\n",
       "median_house_value    0.000000\n",
       "dtype: float64"
      ]
     },
     "execution_count": 233,
     "metadata": {},
     "output_type": "execute_result"
    }
   ],
   "source": [
    "df.isna().sum()/df.shape[0]*100"
   ]
  },
  {
   "cell_type": "markdown",
   "metadata": {},
   "source": [
    "Terdapat data kosong pada dataset ini yaitu pada kolom *total_bedrooms* dengan persentase data kosong sebesar 0.94%\n",
    "\n",
    "untuk mempertahankan isi dari dataset, maka untuk menangani data kosong ini saya akan mengisi data kosong ini dengan menggunakan median"
   ]
  },
  {
   "cell_type": "code",
   "execution_count": 234,
   "metadata": {},
   "outputs": [
    {
     "data": {
      "text/plain": [
       "435.0"
      ]
     },
     "execution_count": 234,
     "metadata": {},
     "output_type": "execute_result"
    }
   ],
   "source": [
    "total_bedrooms_median = df['total_bedrooms'].median()\n",
    "total_bedrooms_median"
   ]
  },
  {
   "cell_type": "code",
   "execution_count": 235,
   "metadata": {},
   "outputs": [],
   "source": [
    "df['total_bedrooms'].fillna(total_bedrooms_median, inplace = True)"
   ]
  },
  {
   "cell_type": "code",
   "execution_count": 236,
   "metadata": {},
   "outputs": [
    {
     "data": {
      "text/plain": [
       "longitude             0\n",
       "latitude              0\n",
       "housing_median_age    0\n",
       "total_rooms           0\n",
       "total_bedrooms        0\n",
       "population            0\n",
       "households            0\n",
       "median_income         0\n",
       "ocean_proximity       0\n",
       "median_house_value    0\n",
       "dtype: int64"
      ]
     },
     "execution_count": 236,
     "metadata": {},
     "output_type": "execute_result"
    }
   ],
   "source": [
    "df.isnull().sum()"
   ]
  },
  {
   "cell_type": "markdown",
   "metadata": {},
   "source": [
    "Data Duplicate"
   ]
  },
  {
   "cell_type": "code",
   "execution_count": 237,
   "metadata": {},
   "outputs": [
    {
     "data": {
      "text/plain": [
       "0"
      ]
     },
     "execution_count": 237,
     "metadata": {},
     "output_type": "execute_result"
    }
   ],
   "source": [
    "# cek data duplicate\n",
    "df.duplicated().sum()"
   ]
  },
  {
   "cell_type": "code",
   "execution_count": 238,
   "metadata": {},
   "outputs": [
    {
     "data": {
      "text/html": [
       "<div>\n",
       "<style scoped>\n",
       "    .dataframe tbody tr th:only-of-type {\n",
       "        vertical-align: middle;\n",
       "    }\n",
       "\n",
       "    .dataframe tbody tr th {\n",
       "        vertical-align: top;\n",
       "    }\n",
       "\n",
       "    .dataframe thead th {\n",
       "        text-align: right;\n",
       "    }\n",
       "</style>\n",
       "<table border=\"1\" class=\"dataframe\">\n",
       "  <thead>\n",
       "    <tr style=\"text-align: right;\">\n",
       "      <th></th>\n",
       "      <th>longitude</th>\n",
       "      <th>latitude</th>\n",
       "      <th>housing_median_age</th>\n",
       "      <th>total_rooms</th>\n",
       "      <th>total_bedrooms</th>\n",
       "      <th>population</th>\n",
       "      <th>households</th>\n",
       "      <th>median_income</th>\n",
       "      <th>median_house_value</th>\n",
       "    </tr>\n",
       "  </thead>\n",
       "  <tbody>\n",
       "    <tr>\n",
       "      <th>count</th>\n",
       "      <td>14448.000000</td>\n",
       "      <td>14448.000000</td>\n",
       "      <td>14448.000000</td>\n",
       "      <td>14448.000000</td>\n",
       "      <td>14448.000000</td>\n",
       "      <td>14448.000000</td>\n",
       "      <td>14448.000000</td>\n",
       "      <td>14448.000000</td>\n",
       "      <td>14448.000000</td>\n",
       "    </tr>\n",
       "    <tr>\n",
       "      <th>mean</th>\n",
       "      <td>-119.566647</td>\n",
       "      <td>35.630093</td>\n",
       "      <td>28.618702</td>\n",
       "      <td>2640.132683</td>\n",
       "      <td>537.281561</td>\n",
       "      <td>1425.157323</td>\n",
       "      <td>499.508929</td>\n",
       "      <td>3.866667</td>\n",
       "      <td>206824.624516</td>\n",
       "    </tr>\n",
       "    <tr>\n",
       "      <th>std</th>\n",
       "      <td>2.006587</td>\n",
       "      <td>2.140121</td>\n",
       "      <td>12.596694</td>\n",
       "      <td>2191.612441</td>\n",
       "      <td>421.683154</td>\n",
       "      <td>1149.580157</td>\n",
       "      <td>383.098390</td>\n",
       "      <td>1.891158</td>\n",
       "      <td>115365.476182</td>\n",
       "    </tr>\n",
       "    <tr>\n",
       "      <th>min</th>\n",
       "      <td>-124.350000</td>\n",
       "      <td>32.540000</td>\n",
       "      <td>1.000000</td>\n",
       "      <td>2.000000</td>\n",
       "      <td>1.000000</td>\n",
       "      <td>3.000000</td>\n",
       "      <td>1.000000</td>\n",
       "      <td>0.499900</td>\n",
       "      <td>14999.000000</td>\n",
       "    </tr>\n",
       "    <tr>\n",
       "      <th>25%</th>\n",
       "      <td>-121.800000</td>\n",
       "      <td>33.930000</td>\n",
       "      <td>18.000000</td>\n",
       "      <td>1451.000000</td>\n",
       "      <td>296.000000</td>\n",
       "      <td>784.000000</td>\n",
       "      <td>279.000000</td>\n",
       "      <td>2.570600</td>\n",
       "      <td>119600.000000</td>\n",
       "    </tr>\n",
       "    <tr>\n",
       "      <th>50%</th>\n",
       "      <td>-118.490000</td>\n",
       "      <td>34.260000</td>\n",
       "      <td>29.000000</td>\n",
       "      <td>2125.000000</td>\n",
       "      <td>435.000000</td>\n",
       "      <td>1165.000000</td>\n",
       "      <td>410.000000</td>\n",
       "      <td>3.539100</td>\n",
       "      <td>180000.000000</td>\n",
       "    </tr>\n",
       "    <tr>\n",
       "      <th>75%</th>\n",
       "      <td>-118.000000</td>\n",
       "      <td>37.710000</td>\n",
       "      <td>37.000000</td>\n",
       "      <td>3148.000000</td>\n",
       "      <td>645.000000</td>\n",
       "      <td>1724.000000</td>\n",
       "      <td>604.000000</td>\n",
       "      <td>4.736100</td>\n",
       "      <td>263900.000000</td>\n",
       "    </tr>\n",
       "    <tr>\n",
       "      <th>max</th>\n",
       "      <td>-114.310000</td>\n",
       "      <td>41.950000</td>\n",
       "      <td>52.000000</td>\n",
       "      <td>32627.000000</td>\n",
       "      <td>6445.000000</td>\n",
       "      <td>35682.000000</td>\n",
       "      <td>6082.000000</td>\n",
       "      <td>15.000100</td>\n",
       "      <td>500001.000000</td>\n",
       "    </tr>\n",
       "  </tbody>\n",
       "</table>\n",
       "</div>"
      ],
      "text/plain": [
       "          longitude      latitude  housing_median_age   total_rooms  \\\n",
       "count  14448.000000  14448.000000        14448.000000  14448.000000   \n",
       "mean    -119.566647     35.630093           28.618702   2640.132683   \n",
       "std        2.006587      2.140121           12.596694   2191.612441   \n",
       "min     -124.350000     32.540000            1.000000      2.000000   \n",
       "25%     -121.800000     33.930000           18.000000   1451.000000   \n",
       "50%     -118.490000     34.260000           29.000000   2125.000000   \n",
       "75%     -118.000000     37.710000           37.000000   3148.000000   \n",
       "max     -114.310000     41.950000           52.000000  32627.000000   \n",
       "\n",
       "       total_bedrooms    population    households  median_income  \\\n",
       "count    14448.000000  14448.000000  14448.000000   14448.000000   \n",
       "mean       537.281561   1425.157323    499.508929       3.866667   \n",
       "std        421.683154   1149.580157    383.098390       1.891158   \n",
       "min          1.000000      3.000000      1.000000       0.499900   \n",
       "25%        296.000000    784.000000    279.000000       2.570600   \n",
       "50%        435.000000   1165.000000    410.000000       3.539100   \n",
       "75%        645.000000   1724.000000    604.000000       4.736100   \n",
       "max       6445.000000  35682.000000   6082.000000      15.000100   \n",
       "\n",
       "       median_house_value  \n",
       "count        14448.000000  \n",
       "mean        206824.624516  \n",
       "std         115365.476182  \n",
       "min          14999.000000  \n",
       "25%         119600.000000  \n",
       "50%         180000.000000  \n",
       "75%         263900.000000  \n",
       "max         500001.000000  "
      ]
     },
     "execution_count": 238,
     "metadata": {},
     "output_type": "execute_result"
    }
   ],
   "source": [
    "df.describe()"
   ]
  },
  {
   "cell_type": "markdown",
   "metadata": {},
   "source": [
    "Selain kolom *longitude* dan *latitude* tidak ada nilai yang <0 sehingga data-data ini dinilai masuk akal"
   ]
  },
  {
   "cell_type": "code",
   "execution_count": 239,
   "metadata": {},
   "outputs": [
    {
     "data": {
      "text/plain": [
       "Text(0.5, 1.0, 'Correlation Matrix')"
      ]
     },
     "execution_count": 239,
     "metadata": {},
     "output_type": "execute_result"
    },
    {
     "data": {
      "image/png": "[encoded data removed]",
      "text/plain": [
       "<Figure size 1080x864 with 2 Axes>"
      ]
     },
     "metadata": {
      "needs_background": "light"
     },
     "output_type": "display_data"
    }
   ],
   "source": [
    "# Correlation matrix\n",
    "plt.figure(figsize=(15, 12))\n",
    "palette=sns.diverging_palette(20, 220, n=256)\n",
    "corr = df.corr(method='pearson')\n",
    "sns.heatmap(corr, annot=True, fmt='.2f', cmap=palette, square=True, linewidths=.5)\n",
    "plt.title('Correlation Matrix', size=15, weight='bold')"
   ]
  },
  {
   "cell_type": "markdown",
   "metadata": {},
   "source": [
    "Pada Correlation matrix ini menunjukkan longitude dan latitude memiliki korelasi negatif yang kuat,  fitur Households memiliki korelasi positif yang kuat terhadap fitur total_rooms dengan total_bedrooms dan ada juga fitur median_house_value yang memiliki korelasi positif yang cukup kuat dengan fitur median_income. Fitur median_house_value yang akan jadi fitur penting pada model yang akan dibuat"
   ]
  },
  {
   "cell_type": "markdown",
   "metadata": {},
   "source": [
    "Cek Data Outlier\n",
    "\n",
    "Cek data outlier pada setial kolom numerikal"
   ]
  },
  {
   "cell_type": "code",
   "execution_count": 240,
   "metadata": {},
   "outputs": [
    {
     "data": {
      "text/plain": [
       "<AxesSubplot:xlabel='longitude'>"
      ]
     },
     "execution_count": 240,
     "metadata": {},
     "output_type": "execute_result"
    },
    {
     "data": {
      "image/png": "[encoded data removed]",
      "text/plain": [
       "<Figure size 432x288 with 1 Axes>"
      ]
     },
     "metadata": {
      "needs_background": "light"
     },
     "output_type": "display_data"
    }
   ],
   "source": [
    "sns.boxplot(df['longitude'])"
   ]
  },
  {
   "cell_type": "code",
   "execution_count": 241,
   "metadata": {},
   "outputs": [
    {
     "data": {
      "text/plain": [
       "<AxesSubplot:xlabel='latitude'>"
      ]
     },
     "execution_count": 241,
     "metadata": {},
     "output_type": "execute_result"
    },
    {
     "data": {
      "image/png": "[encoded data removed]",
      "text/plain": [
       "<Figure size 432x288 with 1 Axes>"
      ]
     },
     "metadata": {
      "needs_background": "light"
     },
     "output_type": "display_data"
    }
   ],
   "source": [
    "sns.boxplot(df['latitude'])"
   ]
  },
  {
   "cell_type": "code",
   "execution_count": 242,
   "metadata": {},
   "outputs": [
    {
     "data": {
      "text/plain": [
       "<AxesSubplot:xlabel='housing_median_age'>"
      ]
     },
     "execution_count": 242,
     "metadata": {},
     "output_type": "execute_result"
    },
    {
     "data": {
      "image/png": "[encoded data removed]",
      "text/plain": [
       "<Figure size 432x288 with 1 Axes>"
      ]
     },
     "metadata": {
      "needs_background": "light"
     },
     "output_type": "display_data"
    }
   ],
   "source": [
    "sns.boxplot(df['housing_median_age'])"
   ]
  },
  {
   "cell_type": "code",
   "execution_count": 243,
   "metadata": {},
   "outputs": [
    {
     "data": {
      "text/plain": [
       "<AxesSubplot:xlabel='total_rooms'>"
      ]
     },
     "execution_count": 243,
     "metadata": {},
     "output_type": "execute_result"
    },
    {
     "data": {
      "image/png": "[encoded data removed]",
      "text/plain": [
       "<Figure size 432x288 with 1 Axes>"
      ]
     },
     "metadata": {
      "needs_background": "light"
     },
     "output_type": "display_data"
    }
   ],
   "source": [
    "sns.boxplot(df['total_rooms'])"
   ]
  },
  {
   "cell_type": "code",
   "execution_count": 244,
   "metadata": {},
   "outputs": [
    {
     "data": {
      "text/plain": [
       "<AxesSubplot:xlabel='total_bedrooms'>"
      ]
     },
     "execution_count": 244,
     "metadata": {},
     "output_type": "execute_result"
    },
    {
     "data": {
      "image/png": "[encoded data removed]",
      "text/plain": [
       "<Figure size 432x288 with 1 Axes>"
      ]
     },
     "metadata": {
      "needs_background": "light"
     },
     "output_type": "display_data"
    }
   ],
   "source": [
    "sns.boxplot(df['total_bedrooms'])"
   ]
  },
  {
   "cell_type": "code",
   "execution_count": 245,
   "metadata": {},
   "outputs": [
    {
     "data": {
      "text/plain": [
       "<AxesSubplot:xlabel='population'>"
      ]
     },
     "execution_count": 245,
     "metadata": {},
     "output_type": "execute_result"
    },
    {
     "data": {
      "image/png": "[encoded data removed]",
      "text/plain": [
       "<Figure size 432x288 with 1 Axes>"
      ]
     },
     "metadata": {
      "needs_background": "light"
     },
     "output_type": "display_data"
    }
   ],
   "source": [
    "sns.boxplot(df['population'])"
   ]
  },
  {
   "cell_type": "code",
   "execution_count": 246,
   "metadata": {},
   "outputs": [
    {
     "data": {
      "text/plain": [
       "<AxesSubplot:xlabel='households'>"
      ]
     },
     "execution_count": 246,
     "metadata": {},
     "output_type": "execute_result"
    },
    {
     "data": {
      "image/png": "[encoded data removed]",
      "text/plain": [
       "<Figure size 432x288 with 1 Axes>"
      ]
     },
     "metadata": {
      "needs_background": "light"
     },
     "output_type": "display_data"
    }
   ],
   "source": [
    "sns.boxplot(df['households'])"
   ]
  },
  {
   "cell_type": "code",
   "execution_count": 247,
   "metadata": {},
   "outputs": [
    {
     "data": {
      "text/plain": [
       "<AxesSubplot:xlabel='median_income'>"
      ]
     },
     "execution_count": 247,
     "metadata": {},
     "output_type": "execute_result"
    },
    {
     "data": {
      "image/png": "[encoded data removed]",
      "text/plain": [
       "<Figure size 432x288 with 1 Axes>"
      ]
     },
     "metadata": {
      "needs_background": "light"
     },
     "output_type": "display_data"
    }
   ],
   "source": [
    "sns.boxplot(df['median_income'])"
   ]
  },
  {
   "cell_type": "code",
   "execution_count": 248,
   "metadata": {},
   "outputs": [
    {
     "data": {
      "text/plain": [
       "<AxesSubplot:xlabel='median_house_value'>"
      ]
     },
     "execution_count": 248,
     "metadata": {},
     "output_type": "execute_result"
    },
    {
     "data": {
      "image/png": "[encoded data removed]",
      "text/plain": [
       "<Figure size 432x288 with 1 Axes>"
      ]
     },
     "metadata": {
      "needs_background": "light"
     },
     "output_type": "display_data"
    }
   ],
   "source": [
    "sns.boxplot(df['median_house_value'])"
   ]
  },
  {
   "cell_type": "markdown",
   "metadata": {},
   "source": [
    "Mengatasi data Outlier"
   ]
  },
  {
   "cell_type": "code",
   "execution_count": 249,
   "metadata": {},
   "outputs": [
    {
     "name": "stdout",
     "output_type": "stream",
     "text": [
      "Nilai Maximum dari kolom total_rooms:  5693.5\n",
      "Nilai Minimum dari kolom total_rooms:  -1094.5\n",
      "IQR: 1697.0\n",
      "\n",
      "persebaran data setelah ditangani outliers\n",
      "count    14448.000000\n",
      "mean      2440.619532\n",
      "std       1397.886184\n",
      "min          2.000000\n",
      "25%       1451.000000\n",
      "50%       2125.000000\n",
      "75%       3148.000000\n",
      "max       5693.500000\n",
      "Name: total_rooms, dtype: float64\n"
     ]
    }
   ],
   "source": [
    "# mengatasi data outliers kolom total_rooms\n",
    "\n",
    "q1 = (df['total_rooms']).quantile(0.25)\n",
    "q3 = (df['total_rooms']).quantile(0.75)\n",
    "IQR = q3 -q1\n",
    "maximum = q3 + (1.5*IQR)\n",
    "print('Nilai Maximum dari kolom total_rooms: ',maximum)\n",
    "minimum = q1 - (1.5*IQR)\n",
    "print('Nilai Minimum dari kolom total_rooms: ',minimum)\n",
    "print('IQR:', IQR)\n",
    "more_than = (df['total_rooms'] > maximum)\n",
    "lower_than = (df['total_rooms'] < minimum)\n",
    "df['total_rooms'] = df['total_rooms'].mask(more_than, maximum, axis = None)\n",
    "df['total_rooms'] = df['total_rooms'].mask(lower_than, minimum, axis = None)\n",
    "\n",
    "print('\\npersebaran data setelah ditangani outliers')\n",
    "print(df['total_rooms'].describe())"
   ]
  },
  {
   "cell_type": "code",
   "execution_count": 250,
   "metadata": {},
   "outputs": [
    {
     "name": "stdout",
     "output_type": "stream",
     "text": [
      "Nilai Maximum dari kolom total_bedrooms:  1168.5\n",
      "Nilai Minimum dari kolom total_bedrooms:  -227.5\n",
      "IQR: 349.0\n",
      "\n",
      "persebaran data setelah ditangani outliers\n",
      "count    14448.000000\n",
      "mean       500.915352\n",
      "std        284.653478\n",
      "min          1.000000\n",
      "25%        296.000000\n",
      "50%        435.000000\n",
      "75%        645.000000\n",
      "max       1168.500000\n",
      "Name: total_bedrooms, dtype: float64\n"
     ]
    }
   ],
   "source": [
    "# mengatasi data Outlier pada kolom total_bedrooms\n",
    "q1 = (df['total_bedrooms']).quantile(0.25)\n",
    "q3 = (df['total_bedrooms']).quantile(0.75)\n",
    "IQR = q3 -q1\n",
    "maximum = q3 + (1.5*IQR)\n",
    "print('Nilai Maximum dari kolom total_bedrooms: ',maximum)\n",
    "minimum = q1 - (1.5*IQR)\n",
    "print('Nilai Minimum dari kolom total_bedrooms: ',minimum)\n",
    "print('IQR:', IQR)\n",
    "more_than = (df['total_bedrooms'] > maximum)\n",
    "lower_than = (df['total_bedrooms'] < minimum)\n",
    "df['total_bedrooms'] = df['total_bedrooms'].mask(more_than, maximum, axis = None)\n",
    "df['total_bedrooms'] = df['total_bedrooms'].mask(lower_than, minimum, axis = None)\n",
    "\n",
    "print('\\npersebaran data setelah ditangani outliers')\n",
    "print(df['total_bedrooms'].describe())"
   ]
  },
  {
   "cell_type": "code",
   "execution_count": 251,
   "metadata": {},
   "outputs": [
    {
     "name": "stdout",
     "output_type": "stream",
     "text": [
      "Nilai Maximum dari kolom population:  3134.0\n",
      "Nilai Minimum dari kolom population:  -626.0\n",
      "IQR: 940.0\n",
      "\n",
      "persebaran data setelah ditangani outliers\n",
      "count    14448.000000\n",
      "mean      1334.497785\n",
      "std        765.269565\n",
      "min          3.000000\n",
      "25%        784.000000\n",
      "50%       1165.000000\n",
      "75%       1724.000000\n",
      "max       3134.000000\n",
      "Name: population, dtype: float64\n"
     ]
    }
   ],
   "source": [
    "# mengatasi data Outlier pada kolom population\n",
    "q1 = (df['population']).quantile(0.25)\n",
    "q3 = (df['population']).quantile(0.75)\n",
    "IQR = q3 -q1\n",
    "maximum = q3 + (1.5*IQR)\n",
    "print('Nilai Maximum dari kolom population: ',maximum)\n",
    "minimum = q1 - (1.5*IQR)\n",
    "print('Nilai Minimum dari kolom population: ',minimum)\n",
    "print('IQR:', IQR)\n",
    "more_than = (df['population'] > maximum)\n",
    "lower_than = (df['population'] < minimum)\n",
    "df['population'] = df['population'].mask(more_than, maximum, axis = None)\n",
    "df['population'] = df['population'].mask(lower_than, minimum, axis = None)\n",
    "\n",
    "print('\\npersebaran data setelah ditangani outliers')\n",
    "print(df['population'].describe())"
   ]
  },
  {
   "cell_type": "code",
   "execution_count": 252,
   "metadata": {},
   "outputs": [
    {
     "name": "stdout",
     "output_type": "stream",
     "text": [
      "Nilai Maximum dari kolom households:  334.0\n",
      "Nilai Minimum dari kolom households:  1054.0\n",
      "IQR: -180.0\n",
      "\n",
      "persebaran data setelah ditangani outliers\n",
      "count    14448.000000\n",
      "mean      1008.053156\n",
      "std        175.990792\n",
      "min        334.000000\n",
      "25%       1054.000000\n",
      "50%       1054.000000\n",
      "75%       1054.000000\n",
      "max       1054.000000\n",
      "Name: households, dtype: float64\n"
     ]
    }
   ],
   "source": [
    "# mengatasi data Outlier pada kolom households\n",
    "q3 = (df['households']).quantile(0.75)\n",
    "IQR = q3 -q1\n",
    "maximum = q3 + (1.5*IQR)\n",
    "print('Nilai Maximum dari kolom households: ',maximum)\n",
    "minimum = q1 - (1.5*IQR)\n",
    "print('Nilai Minimum dari kolom households: ',minimum)\n",
    "print('IQR:', IQR)\n",
    "more_than = (df['households'] > maximum)\n",
    "lower_than = (df['households'] < minimum)\n",
    "df['households'] = df['households'].mask(more_than, maximum, axis = None)\n",
    "df['households'] = df['households'].mask(lower_than, minimum, axis = None)\n",
    "\n",
    "print('\\npersebaran data setelah ditangani outliers')\n",
    "print(df['households'].describe())"
   ]
  },
  {
   "cell_type": "code",
   "execution_count": 253,
   "metadata": {},
   "outputs": [
    {
     "name": "stdout",
     "output_type": "stream",
     "text": [
      "Nilai Maximum dari kolom median_income:  -1164.15975\n",
      "Nilai Minimum dari kolom median_income:  1952.89585\n",
      "IQR: -779.2639\n",
      "\n",
      "persebaran data setelah ditangani outliers\n",
      "count    1.444800e+04\n",
      "mean     1.952896e+03\n",
      "std      4.547631e-13\n",
      "min      1.952896e+03\n",
      "25%      1.952896e+03\n",
      "50%      1.952896e+03\n",
      "75%      1.952896e+03\n",
      "max      1.952896e+03\n",
      "Name: median_income, dtype: float64\n"
     ]
    }
   ],
   "source": [
    "# mengatasi data Outlier pada kolom median_income\n",
    "q3 = (df['median_income']).quantile(0.75)\n",
    "IQR = q3 -q1\n",
    "maximum = q3 + (1.5*IQR)\n",
    "print('Nilai Maximum dari kolom median_income: ',maximum)\n",
    "minimum = q1 - (1.5*IQR)\n",
    "print('Nilai Minimum dari kolom median_income: ',minimum)\n",
    "print('IQR:', IQR)\n",
    "more_than = (df['median_income'] > maximum)\n",
    "lower_than = (df['median_income'] < minimum)\n",
    "df['median_income'] = df['median_income'].mask(more_than, maximum, axis = None)\n",
    "df['median_income'] = df['median_income'].mask(lower_than, minimum, axis = None)\n",
    "\n",
    "print('\\npersebaran data setelah ditangani outliers')\n",
    "print(df['median_income'].describe())"
   ]
  },
  {
   "cell_type": "code",
   "execution_count": 254,
   "metadata": {},
   "outputs": [
    {
     "name": "stdout",
     "output_type": "stream",
     "text": [
      "Nilai Maximum dari kolom median_house_value:  658574.0\n",
      "Nilai Minimum dari kolom median_house_value:  -393890.0\n",
      "IQR: 263116.0\n",
      "\n",
      "persebaran data setelah ditangani outliers\n",
      "count     14448.000000\n",
      "mean     206824.624516\n",
      "std      115365.476182\n",
      "min       14999.000000\n",
      "25%      119600.000000\n",
      "50%      180000.000000\n",
      "75%      263900.000000\n",
      "max      500001.000000\n",
      "Name: median_house_value, dtype: float64\n"
     ]
    }
   ],
   "source": [
    "# mengatasi data Outlier pada kolom median_house_value\n",
    "q3 = (df['median_house_value']).quantile(0.75)\n",
    "IQR = q3 -q1\n",
    "maximum = q3 + (1.5*IQR)\n",
    "print('Nilai Maximum dari kolom median_house_value: ',maximum)\n",
    "minimum = q1 - (1.5*IQR)\n",
    "print('Nilai Minimum dari kolom median_house_value: ',minimum)\n",
    "print('IQR:', IQR)\n",
    "more_than = (df['median_house_value'] > maximum)\n",
    "lower_than = (df['median_house_value'] < minimum)\n",
    "df['median_house_value'] = df['median_house_value'].mask(more_than, maximum, axis = None)\n",
    "df['median_house_value'] = df['median_house_value'].mask(lower_than, minimum, axis = None)\n",
    "\n",
    "print('\\npersebaran data setelah ditangani outliers')\n",
    "print(df['median_house_value'].describe())"
   ]
  },
  {
   "cell_type": "code",
   "execution_count": 255,
   "metadata": {},
   "outputs": [
    {
     "name": "stdout",
     "output_type": "stream",
     "text": [
      "<class 'pandas.core.frame.DataFrame'>\n",
      "RangeIndex: 14448 entries, 0 to 14447\n",
      "Data columns (total 10 columns):\n",
      " #   Column              Non-Null Count  Dtype  \n",
      "---  ------              --------------  -----  \n",
      " 0   longitude           14448 non-null  float64\n",
      " 1   latitude            14448 non-null  float64\n",
      " 2   housing_median_age  14448 non-null  float64\n",
      " 3   total_rooms         14448 non-null  float64\n",
      " 4   total_bedrooms      14448 non-null  float64\n",
      " 5   population          14448 non-null  float64\n",
      " 6   households          14448 non-null  float64\n",
      " 7   median_income       14448 non-null  float64\n",
      " 8   ocean_proximity     14448 non-null  object \n",
      " 9   median_house_value  14448 non-null  float64\n",
      "dtypes: float64(9), object(1)\n",
      "memory usage: 1.1+ MB\n"
     ]
    }
   ],
   "source": [
    "df.info()"
   ]
  },
  {
   "cell_type": "code",
   "execution_count": 256,
   "metadata": {},
   "outputs": [
    {
     "data": {
      "text/html": [
       "<div>\n",
       "<style scoped>\n",
       "    .dataframe tbody tr th:only-of-type {\n",
       "        vertical-align: middle;\n",
       "    }\n",
       "\n",
       "    .dataframe tbody tr th {\n",
       "        vertical-align: top;\n",
       "    }\n",
       "\n",
       "    .dataframe thead th {\n",
       "        text-align: right;\n",
       "    }\n",
       "</style>\n",
       "<table border=\"1\" class=\"dataframe\">\n",
       "  <thead>\n",
       "    <tr style=\"text-align: right;\">\n",
       "      <th></th>\n",
       "      <th>&lt;1H OCEAN</th>\n",
       "      <th>INLAND</th>\n",
       "      <th>ISLAND</th>\n",
       "      <th>NEAR BAY</th>\n",
       "      <th>NEAR OCEAN</th>\n",
       "    </tr>\n",
       "  </thead>\n",
       "  <tbody>\n",
       "    <tr>\n",
       "      <th>0</th>\n",
       "      <td>0</td>\n",
       "      <td>1</td>\n",
       "      <td>0</td>\n",
       "      <td>0</td>\n",
       "      <td>0</td>\n",
       "    </tr>\n",
       "    <tr>\n",
       "      <th>1</th>\n",
       "      <td>0</td>\n",
       "      <td>0</td>\n",
       "      <td>0</td>\n",
       "      <td>1</td>\n",
       "      <td>0</td>\n",
       "    </tr>\n",
       "    <tr>\n",
       "      <th>2</th>\n",
       "      <td>1</td>\n",
       "      <td>0</td>\n",
       "      <td>0</td>\n",
       "      <td>0</td>\n",
       "      <td>0</td>\n",
       "    </tr>\n",
       "    <tr>\n",
       "      <th>3</th>\n",
       "      <td>1</td>\n",
       "      <td>0</td>\n",
       "      <td>0</td>\n",
       "      <td>0</td>\n",
       "      <td>0</td>\n",
       "    </tr>\n",
       "    <tr>\n",
       "      <th>4</th>\n",
       "      <td>0</td>\n",
       "      <td>1</td>\n",
       "      <td>0</td>\n",
       "      <td>0</td>\n",
       "      <td>0</td>\n",
       "    </tr>\n",
       "  </tbody>\n",
       "</table>\n",
       "</div>"
      ],
      "text/plain": [
       "   <1H OCEAN  INLAND  ISLAND  NEAR BAY  NEAR OCEAN\n",
       "0          0       1       0         0           0\n",
       "1          0       0       0         1           0\n",
       "2          1       0       0         0           0\n",
       "3          1       0       0         0           0\n",
       "4          0       1       0         0           0"
      ]
     },
     "execution_count": 256,
     "metadata": {},
     "output_type": "execute_result"
    }
   ],
   "source": [
    "# Mengubah data Kategorikal menjadi Numerikal\n",
    "house_ocean_prox = pd.get_dummies(df['ocean_proximity'])\n",
    "house_ocean_prox.head()"
   ]
  },
  {
   "cell_type": "markdown",
   "metadata": {},
   "source": [
    "implementasi lebih mudah menggunakan pd.get_dummies"
   ]
  },
  {
   "cell_type": "code",
   "execution_count": 257,
   "metadata": {},
   "outputs": [
    {
     "data": {
      "text/html": [
       "<div>\n",
       "<style scoped>\n",
       "    .dataframe tbody tr th:only-of-type {\n",
       "        vertical-align: middle;\n",
       "    }\n",
       "\n",
       "    .dataframe tbody tr th {\n",
       "        vertical-align: top;\n",
       "    }\n",
       "\n",
       "    .dataframe thead th {\n",
       "        text-align: right;\n",
       "    }\n",
       "</style>\n",
       "<table border=\"1\" class=\"dataframe\">\n",
       "  <thead>\n",
       "    <tr style=\"text-align: right;\">\n",
       "      <th></th>\n",
       "      <th>longitude</th>\n",
       "      <th>latitude</th>\n",
       "      <th>housing_median_age</th>\n",
       "      <th>total_rooms</th>\n",
       "      <th>total_bedrooms</th>\n",
       "      <th>population</th>\n",
       "      <th>households</th>\n",
       "      <th>median_income</th>\n",
       "      <th>median_house_value</th>\n",
       "      <th>&lt;1H OCEAN</th>\n",
       "      <th>INLAND</th>\n",
       "      <th>ISLAND</th>\n",
       "      <th>NEAR BAY</th>\n",
       "      <th>NEAR OCEAN</th>\n",
       "    </tr>\n",
       "  </thead>\n",
       "  <tbody>\n",
       "    <tr>\n",
       "      <th>0</th>\n",
       "      <td>-119.79</td>\n",
       "      <td>36.73</td>\n",
       "      <td>52.0</td>\n",
       "      <td>112.0</td>\n",
       "      <td>28.0</td>\n",
       "      <td>193.0</td>\n",
       "      <td>1054.0</td>\n",
       "      <td>1952.89585</td>\n",
       "      <td>47500.0</td>\n",
       "      <td>0</td>\n",
       "      <td>1</td>\n",
       "      <td>0</td>\n",
       "      <td>0</td>\n",
       "      <td>0</td>\n",
       "    </tr>\n",
       "    <tr>\n",
       "      <th>1</th>\n",
       "      <td>-122.21</td>\n",
       "      <td>37.77</td>\n",
       "      <td>43.0</td>\n",
       "      <td>1017.0</td>\n",
       "      <td>328.0</td>\n",
       "      <td>836.0</td>\n",
       "      <td>1054.0</td>\n",
       "      <td>1952.89585</td>\n",
       "      <td>100000.0</td>\n",
       "      <td>0</td>\n",
       "      <td>0</td>\n",
       "      <td>0</td>\n",
       "      <td>1</td>\n",
       "      <td>0</td>\n",
       "    </tr>\n",
       "    <tr>\n",
       "      <th>2</th>\n",
       "      <td>-118.04</td>\n",
       "      <td>33.87</td>\n",
       "      <td>17.0</td>\n",
       "      <td>2358.0</td>\n",
       "      <td>396.0</td>\n",
       "      <td>1387.0</td>\n",
       "      <td>1054.0</td>\n",
       "      <td>1952.89585</td>\n",
       "      <td>285800.0</td>\n",
       "      <td>1</td>\n",
       "      <td>0</td>\n",
       "      <td>0</td>\n",
       "      <td>0</td>\n",
       "      <td>0</td>\n",
       "    </tr>\n",
       "    <tr>\n",
       "      <th>3</th>\n",
       "      <td>-118.28</td>\n",
       "      <td>34.06</td>\n",
       "      <td>17.0</td>\n",
       "      <td>2518.0</td>\n",
       "      <td>1168.5</td>\n",
       "      <td>3051.0</td>\n",
       "      <td>1054.0</td>\n",
       "      <td>1952.89585</td>\n",
       "      <td>175000.0</td>\n",
       "      <td>1</td>\n",
       "      <td>0</td>\n",
       "      <td>0</td>\n",
       "      <td>0</td>\n",
       "      <td>0</td>\n",
       "    </tr>\n",
       "    <tr>\n",
       "      <th>4</th>\n",
       "      <td>-119.81</td>\n",
       "      <td>36.73</td>\n",
       "      <td>50.0</td>\n",
       "      <td>772.0</td>\n",
       "      <td>194.0</td>\n",
       "      <td>606.0</td>\n",
       "      <td>1054.0</td>\n",
       "      <td>1952.89585</td>\n",
       "      <td>59200.0</td>\n",
       "      <td>0</td>\n",
       "      <td>1</td>\n",
       "      <td>0</td>\n",
       "      <td>0</td>\n",
       "      <td>0</td>\n",
       "    </tr>\n",
       "  </tbody>\n",
       "</table>\n",
       "</div>"
      ],
      "text/plain": [
       "   longitude  latitude  housing_median_age  total_rooms  total_bedrooms  \\\n",
       "0    -119.79     36.73                52.0        112.0            28.0   \n",
       "1    -122.21     37.77                43.0       1017.0           328.0   \n",
       "2    -118.04     33.87                17.0       2358.0           396.0   \n",
       "3    -118.28     34.06                17.0       2518.0          1168.5   \n",
       "4    -119.81     36.73                50.0        772.0           194.0   \n",
       "\n",
       "   population  households  median_income  median_house_value  <1H OCEAN  \\\n",
       "0       193.0      1054.0     1952.89585             47500.0          0   \n",
       "1       836.0      1054.0     1952.89585            100000.0          0   \n",
       "2      1387.0      1054.0     1952.89585            285800.0          1   \n",
       "3      3051.0      1054.0     1952.89585            175000.0          1   \n",
       "4       606.0      1054.0     1952.89585             59200.0          0   \n",
       "\n",
       "   INLAND  ISLAND  NEAR BAY  NEAR OCEAN  \n",
       "0       1       0         0           0  \n",
       "1       0       0         1           0  \n",
       "2       0       0         0           0  \n",
       "3       0       0         0           0  \n",
       "4       1       0         0           0  "
      ]
     },
     "execution_count": 257,
     "metadata": {},
     "output_type": "execute_result"
    }
   ],
   "source": [
    "df = pd.concat([df,house_ocean_prox], axis = 1)\n",
    "df.drop('ocean_proximity',axis = 1, inplace =True)\n",
    "df.head()"
   ]
  },
  {
   "cell_type": "markdown",
   "metadata": {},
   "source": [
    "Dataset setelah dilakukan preprocessing"
   ]
  },
  {
   "cell_type": "code",
   "execution_count": 258,
   "metadata": {},
   "outputs": [
    {
     "data": {
      "text/html": [
       "<div>\n",
       "<style scoped>\n",
       "    .dataframe tbody tr th:only-of-type {\n",
       "        vertical-align: middle;\n",
       "    }\n",
       "\n",
       "    .dataframe tbody tr th {\n",
       "        vertical-align: top;\n",
       "    }\n",
       "\n",
       "    .dataframe thead th {\n",
       "        text-align: right;\n",
       "    }\n",
       "</style>\n",
       "<table border=\"1\" class=\"dataframe\">\n",
       "  <thead>\n",
       "    <tr style=\"text-align: right;\">\n",
       "      <th></th>\n",
       "      <th>longitude</th>\n",
       "      <th>latitude</th>\n",
       "      <th>housing_median_age</th>\n",
       "      <th>total_rooms</th>\n",
       "      <th>total_bedrooms</th>\n",
       "      <th>population</th>\n",
       "      <th>households</th>\n",
       "      <th>median_income</th>\n",
       "      <th>median_house_value</th>\n",
       "      <th>&lt;1H OCEAN</th>\n",
       "      <th>INLAND</th>\n",
       "      <th>ISLAND</th>\n",
       "      <th>NEAR BAY</th>\n",
       "      <th>NEAR OCEAN</th>\n",
       "    </tr>\n",
       "  </thead>\n",
       "  <tbody>\n",
       "    <tr>\n",
       "      <th>0</th>\n",
       "      <td>-119.79</td>\n",
       "      <td>36.73</td>\n",
       "      <td>52.0</td>\n",
       "      <td>112.0</td>\n",
       "      <td>28.0</td>\n",
       "      <td>193.0</td>\n",
       "      <td>1054.0</td>\n",
       "      <td>1952.89585</td>\n",
       "      <td>47500.0</td>\n",
       "      <td>0</td>\n",
       "      <td>1</td>\n",
       "      <td>0</td>\n",
       "      <td>0</td>\n",
       "      <td>0</td>\n",
       "    </tr>\n",
       "    <tr>\n",
       "      <th>1</th>\n",
       "      <td>-122.21</td>\n",
       "      <td>37.77</td>\n",
       "      <td>43.0</td>\n",
       "      <td>1017.0</td>\n",
       "      <td>328.0</td>\n",
       "      <td>836.0</td>\n",
       "      <td>1054.0</td>\n",
       "      <td>1952.89585</td>\n",
       "      <td>100000.0</td>\n",
       "      <td>0</td>\n",
       "      <td>0</td>\n",
       "      <td>0</td>\n",
       "      <td>1</td>\n",
       "      <td>0</td>\n",
       "    </tr>\n",
       "    <tr>\n",
       "      <th>2</th>\n",
       "      <td>-118.04</td>\n",
       "      <td>33.87</td>\n",
       "      <td>17.0</td>\n",
       "      <td>2358.0</td>\n",
       "      <td>396.0</td>\n",
       "      <td>1387.0</td>\n",
       "      <td>1054.0</td>\n",
       "      <td>1952.89585</td>\n",
       "      <td>285800.0</td>\n",
       "      <td>1</td>\n",
       "      <td>0</td>\n",
       "      <td>0</td>\n",
       "      <td>0</td>\n",
       "      <td>0</td>\n",
       "    </tr>\n",
       "    <tr>\n",
       "      <th>3</th>\n",
       "      <td>-118.28</td>\n",
       "      <td>34.06</td>\n",
       "      <td>17.0</td>\n",
       "      <td>2518.0</td>\n",
       "      <td>1168.5</td>\n",
       "      <td>3051.0</td>\n",
       "      <td>1054.0</td>\n",
       "      <td>1952.89585</td>\n",
       "      <td>175000.0</td>\n",
       "      <td>1</td>\n",
       "      <td>0</td>\n",
       "      <td>0</td>\n",
       "      <td>0</td>\n",
       "      <td>0</td>\n",
       "    </tr>\n",
       "    <tr>\n",
       "      <th>4</th>\n",
       "      <td>-119.81</td>\n",
       "      <td>36.73</td>\n",
       "      <td>50.0</td>\n",
       "      <td>772.0</td>\n",
       "      <td>194.0</td>\n",
       "      <td>606.0</td>\n",
       "      <td>1054.0</td>\n",
       "      <td>1952.89585</td>\n",
       "      <td>59200.0</td>\n",
       "      <td>0</td>\n",
       "      <td>1</td>\n",
       "      <td>0</td>\n",
       "      <td>0</td>\n",
       "      <td>0</td>\n",
       "    </tr>\n",
       "  </tbody>\n",
       "</table>\n",
       "</div>"
      ],
      "text/plain": [
       "   longitude  latitude  housing_median_age  total_rooms  total_bedrooms  \\\n",
       "0    -119.79     36.73                52.0        112.0            28.0   \n",
       "1    -122.21     37.77                43.0       1017.0           328.0   \n",
       "2    -118.04     33.87                17.0       2358.0           396.0   \n",
       "3    -118.28     34.06                17.0       2518.0          1168.5   \n",
       "4    -119.81     36.73                50.0        772.0           194.0   \n",
       "\n",
       "   population  households  median_income  median_house_value  <1H OCEAN  \\\n",
       "0       193.0      1054.0     1952.89585             47500.0          0   \n",
       "1       836.0      1054.0     1952.89585            100000.0          0   \n",
       "2      1387.0      1054.0     1952.89585            285800.0          1   \n",
       "3      3051.0      1054.0     1952.89585            175000.0          1   \n",
       "4       606.0      1054.0     1952.89585             59200.0          0   \n",
       "\n",
       "   INLAND  ISLAND  NEAR BAY  NEAR OCEAN  \n",
       "0       1       0         0           0  \n",
       "1       0       0         1           0  \n",
       "2       0       0         0           0  \n",
       "3       0       0         0           0  \n",
       "4       1       0         0           0  "
      ]
     },
     "execution_count": 258,
     "metadata": {},
     "output_type": "execute_result"
    }
   ],
   "source": [
    "df.head()"
   ]
  },
  {
   "cell_type": "markdown",
   "metadata": {},
   "source": [
    "### Modeling"
   ]
  },
  {
   "cell_type": "code",
   "execution_count": 259,
   "metadata": {},
   "outputs": [],
   "source": [
    "# split dataset\n",
    "X = df.drop('median_house_value', axis=1)\n",
    "y = df['median_house_value']"
   ]
  },
  {
   "cell_type": "markdown",
   "metadata": {},
   "source": [
    "Feature Scalling\n",
    "- Feature Scaling adalah suatu cara untuk membuat numerical data pada dataset memiliki rentang nilai (scale) yang sama. Tidak ada lagi satu variabel data yang mendominasi variabel data lainnya.\n",
    "disini saya menggunakan MinMaxScaller"
   ]
  },
  {
   "cell_type": "code",
   "execution_count": 260,
   "metadata": {},
   "outputs": [
    {
     "data": {
      "text/plain": [
       "array([[0.45418327, 0.44527099, 1.        , 0.01932707, 0.02312634,\n",
       "        0.06068349, 1.        , 0.        , 0.        , 1.        ,\n",
       "        0.        , 0.        , 0.        ],\n",
       "       [0.21314741, 0.55579171, 0.82352941, 0.17833612, 0.28008565,\n",
       "        0.26604919, 1.        , 0.        , 0.        , 0.        ,\n",
       "        0.        , 1.        , 0.        ],\n",
       "       [0.62848606, 0.141339  , 0.31372549, 0.41395063, 0.33832976,\n",
       "        0.4420313 , 1.        , 0.        , 1.        , 0.        ,\n",
       "        0.        , 0.        , 0.        ],\n",
       "       [0.60458167, 0.16153029, 0.31372549, 0.44206273, 1.        ,\n",
       "        0.9734909 , 1.        , 0.        , 1.        , 0.        ,\n",
       "        0.        , 0.        , 0.        ],\n",
       "       [0.45219124, 0.44527099, 0.96078431, 0.13528947, 0.16531049,\n",
       "        0.19259023, 1.        , 0.        , 0.        , 1.        ,\n",
       "        0.        , 0.        , 0.        ]])"
      ]
     },
     "execution_count": 260,
     "metadata": {},
     "output_type": "execute_result"
    }
   ],
   "source": [
    "# Feature Scalling\n",
    "scaler = MinMaxScaler()\n",
    "X = scaler.fit_transform(X)\n",
    "X[0:5]"
   ]
  },
  {
   "cell_type": "code",
   "execution_count": 262,
   "metadata": {},
   "outputs": [],
   "source": [
    "X_train, X_test, y_train, y_test = train_test_split(X,y,\n",
    "                                                   test_size = 0.2,\n",
    "                                                   random_state = 42)"
   ]
  },
  {
   "cell_type": "code",
   "execution_count": 263,
   "metadata": {},
   "outputs": [
    {
     "name": "stdout",
     "output_type": "stream",
     "text": [
      "\n",
      "Shape of X Train: (11558, 13)\n",
      "Shape of Y Train: (11558,)\n",
      "Shape of X Test:  (2890, 13)\n",
      "Shape of Y Test:  (2890,)\n",
      "\n"
     ]
    }
   ],
   "source": [
    "print(f\"\"\"\n",
    "Shape of X Train: {X_train.shape}\n",
    "Shape of Y Train: {y_train.shape}\n",
    "Shape of X Test:  {X_test.shape}\n",
    "Shape of Y Test:  {y_test.shape}\n",
    "\"\"\")"
   ]
  },
  {
   "cell_type": "code",
   "execution_count": 264,
   "metadata": {},
   "outputs": [],
   "source": [
    "def score_display(scores):\n",
    "    scores = np.sqrt(-scores)\n",
    "    print(f\"\"\"\n",
    "    RMSE Scores : {scores}\n",
    "    Mean : {scores.mean()}\n",
    "    Standart Deviation : {scores.std()}\n",
    "    \"\"\")"
   ]
  },
  {
   "cell_type": "markdown",
   "metadata": {},
   "source": [
    "Model yang akan dibandingkan"
   ]
  },
  {
   "cell_type": "code",
   "execution_count": 265,
   "metadata": {},
   "outputs": [],
   "source": [
    "linreg = LinearRegression()\n",
    "DecTree = DecisionTreeRegressor()\n",
    "RandForest = RandomForestRegressor()\n",
    "KNReg = KNeighborsRegressor()\n"
   ]
  },
  {
   "cell_type": "code",
   "execution_count": 266,
   "metadata": {},
   "outputs": [],
   "source": [
    "linreg_scores = cross_val_score(linreg,\n",
    "                               X_train,y_train,\n",
    "                               scoring = 'neg_mean_squared_error',\n",
    "                               cv=10)"
   ]
  },
  {
   "cell_type": "code",
   "execution_count": 267,
   "metadata": {},
   "outputs": [
    {
     "name": "stdout",
     "output_type": "stream",
     "text": [
      "\n",
      "    RMSE Scores : [85451.00660839 87661.2261574  88315.30064667 85897.8919903\n",
      " 82256.12915852 87789.53872478 81291.77048554 87590.69294972\n",
      " 87016.12866494 83784.74158387]\n",
      "    Mean : 85705.44269701406\n",
      "    Standart Deviation : 2354.168715979236\n",
      "    \n"
     ]
    }
   ],
   "source": [
    "score_display(linreg_scores)"
   ]
  },
  {
   "cell_type": "code",
   "execution_count": 268,
   "metadata": {},
   "outputs": [],
   "source": [
    "DecTree_scores = cross_val_score(DecTree,\n",
    "                               X_train,y_train,\n",
    "                               scoring = 'neg_mean_squared_error',\n",
    "                               cv=10)"
   ]
  },
  {
   "cell_type": "code",
   "execution_count": 269,
   "metadata": {},
   "outputs": [
    {
     "name": "stdout",
     "output_type": "stream",
     "text": [
      "\n",
      "    RMSE Scores : [77865.90328916 73158.28934728 75849.22098882 82227.81456385\n",
      " 76569.32006218 83095.89196714 75856.80418878 80576.82607014\n",
      " 73000.32489549 76549.17863134]\n",
      "    Mean : 77474.95740041722\n",
      "    Standart Deviation : 3309.8886340870813\n",
      "    \n"
     ]
    }
   ],
   "source": [
    "score_display(DecTree_scores)"
   ]
  },
  {
   "cell_type": "code",
   "execution_count": 270,
   "metadata": {},
   "outputs": [],
   "source": [
    "RandForest_scores = cross_val_score(RandForest,\n",
    "                               X_train,y_train,\n",
    "                               scoring = 'neg_mean_squared_error',\n",
    "                               cv=10)"
   ]
  },
  {
   "cell_type": "code",
   "execution_count": 272,
   "metadata": {},
   "outputs": [
    {
     "name": "stdout",
     "output_type": "stream",
     "text": [
      "\n",
      "    RMSE Scores : [55485.17524562 51355.04652259 54389.79614018 56563.05226717\n",
      " 50365.62097606 56289.44845036 55374.1982364  53560.43858762\n",
      " 54886.22797103 54346.15800449]\n",
      "    Mean : 54261.51624015202\n",
      "    Standart Deviation : 1915.0963534440928\n",
      "    \n"
     ]
    }
   ],
   "source": [
    "score_display(RandForest_scores)"
   ]
  },
  {
   "cell_type": "code",
   "execution_count": 273,
   "metadata": {},
   "outputs": [],
   "source": [
    "KNReg_scores = cross_val_score(KNReg,\n",
    "                               X_train,y_train,\n",
    "                               scoring = 'neg_mean_squared_error',\n",
    "                               cv=10)"
   ]
  },
  {
   "cell_type": "code",
   "execution_count": 274,
   "metadata": {},
   "outputs": [
    {
     "name": "stdout",
     "output_type": "stream",
     "text": [
      "\n",
      "    RMSE Scores : [73862.14369707 74113.50835086 73764.62861012 75679.58836712\n",
      " 72479.67762058 75899.17576427 70870.07403431 74295.17448826\n",
      " 73175.11490675 74664.27244084]\n",
      "    Mean : 73880.33582801759\n",
      "    Standart Deviation : 1403.161312267302\n",
      "    \n"
     ]
    }
   ],
   "source": [
    "score_display(KNReg_scores)"
   ]
  },
  {
   "cell_type": "markdown",
   "metadata": {},
   "source": [
    "RandomForestRegressor memiliki nilai RMSE paling rendah (55603.50770133) dan Mean (54411.22698704475), jadi saya memutuskan untuk menggunakan RandomForestRegressor sebagai model akhir\n",
    "\n",
    "setelah menentukan algoritma yang akan digunakan sebagai model, sekarang saatnya untuk melakukan tuning parameter pada model tersebut"
   ]
  },
  {
   "cell_type": "code",
   "execution_count": 276,
   "metadata": {},
   "outputs": [],
   "source": [
    "# Parameter Tuning menggunakan GridSearchCV\n",
    "\n",
    "params = {'n_estimators': [3, 5, 10, 20, 30, 40, 50, 70, 80, 100], \n",
    "          'max_features': [1,2, 3, 4, 5, 6, 7, 8, 10,20]}"
   ]
  },
  {
   "cell_type": "code",
   "execution_count": 277,
   "metadata": {},
   "outputs": [],
   "source": [
    "grid_s = GridSearchCV(RandForest, params, \n",
    "                     cv=5,\n",
    "                     scoring='neg_mean_squared_error')"
   ]
  },
  {
   "cell_type": "code",
   "execution_count": 278,
   "metadata": {},
   "outputs": [
    {
     "data": {
      "text/html": [
       "<style>#sk-container-id-5 {color: black;background-color: white;}#sk-container-id-5 pre{padding: 0;}#sk-container-id-5 div.sk-toggleable {background-color: white;}#sk-container-id-5 label.sk-toggleable__label {cursor: pointer;display: block;width: 100%;margin-bottom: 0;padding: 0.3em;box-sizing: border-box;text-align: center;}#sk-container-id-5 label.sk-toggleable__label-arrow:before {content: \"▸\";float: left;margin-right: 0.25em;color: #696969;}#sk-container-id-5 label.sk-toggleable__label-arrow:hover:before {color: black;}#sk-container-id-5 div.sk-estimator:hover label.sk-toggleable__label-arrow:before {color: black;}#sk-container-id-5 div.sk-toggleable__content {max-height: 0;max-width: 0;overflow: hidden;text-align: left;background-color: #f0f8ff;}#sk-container-id-5 div.sk-toggleable__content pre {margin: 0.2em;color: black;border-radius: 0.25em;background-color: #f0f8ff;}#sk-container-id-5 input.sk-toggleable__control:checked~div.sk-toggleable__content {max-height: 200px;max-width: 100%;overflow: auto;}#sk-container-id-5 input.sk-toggleable__control:checked~label.sk-toggleable__label-arrow:before {content: \"▾\";}#sk-container-id-5 div.sk-estimator input.sk-toggleable__control:checked~label.sk-toggleable__label {background-color: #d4ebff;}#sk-container-id-5 div.sk-label input.sk-toggleable__control:checked~label.sk-toggleable__label {background-color: #d4ebff;}#sk-container-id-5 input.sk-hidden--visually {border: 0;clip: rect(1px 1px 1px 1px);clip: rect(1px, 1px, 1px, 1px);height: 1px;margin: -1px;overflow: hidden;padding: 0;position: absolute;width: 1px;}#sk-container-id-5 div.sk-estimator {font-family: monospace;background-color: #f0f8ff;border: 1px dotted black;border-radius: 0.25em;box-sizing: border-box;margin-bottom: 0.5em;}#sk-container-id-5 div.sk-estimator:hover {background-color: #d4ebff;}#sk-container-id-5 div.sk-parallel-item::after {content: \"\";width: 100%;border-bottom: 1px solid gray;flex-grow: 1;}#sk-container-id-5 div.sk-label:hover label.sk-toggleable__label {background-color: #d4ebff;}#sk-container-id-5 div.sk-serial::before {content: \"\";position: absolute;border-left: 1px solid gray;box-sizing: border-box;top: 0;bottom: 0;left: 50%;z-index: 0;}#sk-container-id-5 div.sk-serial {display: flex;flex-direction: column;align-items: center;background-color: white;padding-right: 0.2em;padding-left: 0.2em;position: relative;}#sk-container-id-5 div.sk-item {position: relative;z-index: 1;}#sk-container-id-5 div.sk-parallel {display: flex;align-items: stretch;justify-content: center;background-color: white;position: relative;}#sk-container-id-5 div.sk-item::before, #sk-container-id-5 div.sk-parallel-item::before {content: \"\";position: absolute;border-left: 1px solid gray;box-sizing: border-box;top: 0;bottom: 0;left: 50%;z-index: -1;}#sk-container-id-5 div.sk-parallel-item {display: flex;flex-direction: column;z-index: 1;position: relative;background-color: white;}#sk-container-id-5 div.sk-parallel-item:first-child::after {align-self: flex-end;width: 50%;}#sk-container-id-5 div.sk-parallel-item:last-child::after {align-self: flex-start;width: 50%;}#sk-container-id-5 div.sk-parallel-item:only-child::after {width: 0;}#sk-container-id-5 div.sk-dashed-wrapped {border: 1px dashed gray;margin: 0 0.4em 0.5em 0.4em;box-sizing: border-box;padding-bottom: 0.4em;background-color: white;}#sk-container-id-5 div.sk-label label {font-family: monospace;font-weight: bold;display: inline-block;line-height: 1.2em;}#sk-container-id-5 div.sk-label-container {text-align: center;}#sk-container-id-5 div.sk-container {/* jupyter's `normalize.less` sets `[hidden] { display: none; }` but bootstrap.min.css set `[hidden] { display: none !important; }` so we also need the `!important` here to be able to override the default hidden behavior on the sphinx rendered scikit-learn.org. See: https://github.com/scikit-learn/scikit-learn/issues/21755 */display: inline-block !important;position: relative;}#sk-container-id-5 div.sk-text-repr-fallback {display: none;}</style><div id=\"sk-container-id-5\" class=\"sk-top-container\"><div class=\"sk-text-repr-fallback\"><pre>GridSearchCV(cv=5, estimator=RandomForestRegressor(),\n",
       "             param_grid={&#x27;max_features&#x27;: [1, 2, 3, 4, 5, 6, 7, 8, 10, 20],\n",
       "                         &#x27;n_estimators&#x27;: [3, 5, 10, 20, 30, 40, 50, 70, 80,\n",
       "                                          100]},\n",
       "             scoring=&#x27;neg_mean_squared_error&#x27;)</pre><b>In a Jupyter environment, please rerun this cell to show the HTML representation or trust the notebook. <br />On GitHub, the HTML representation is unable to render, please try loading this page with nbviewer.org.</b></div><div class=\"sk-container\" hidden><div class=\"sk-item sk-dashed-wrapped\"><div class=\"sk-label-container\"><div class=\"sk-label sk-toggleable\"><input class=\"sk-toggleable__control sk-hidden--visually\" id=\"sk-estimator-id-13\" type=\"checkbox\" ><label for=\"sk-estimator-id-13\" class=\"sk-toggleable__label sk-toggleable__label-arrow\">GridSearchCV</label><div class=\"sk-toggleable__content\"><pre>GridSearchCV(cv=5, estimator=RandomForestRegressor(),\n",
       "             param_grid={&#x27;max_features&#x27;: [1, 2, 3, 4, 5, 6, 7, 8, 10, 20],\n",
       "                         &#x27;n_estimators&#x27;: [3, 5, 10, 20, 30, 40, 50, 70, 80,\n",
       "                                          100]},\n",
       "             scoring=&#x27;neg_mean_squared_error&#x27;)</pre></div></div></div><div class=\"sk-parallel\"><div class=\"sk-parallel-item\"><div class=\"sk-item\"><div class=\"sk-label-container\"><div class=\"sk-label sk-toggleable\"><input class=\"sk-toggleable__control sk-hidden--visually\" id=\"sk-estimator-id-14\" type=\"checkbox\" ><label for=\"sk-estimator-id-14\" class=\"sk-toggleable__label sk-toggleable__label-arrow\">estimator: RandomForestRegressor</label><div class=\"sk-toggleable__content\"><pre>RandomForestRegressor()</pre></div></div></div><div class=\"sk-serial\"><div class=\"sk-item\"><div class=\"sk-estimator sk-toggleable\"><input class=\"sk-toggleable__control sk-hidden--visually\" id=\"sk-estimator-id-15\" type=\"checkbox\" ><label for=\"sk-estimator-id-15\" class=\"sk-toggleable__label sk-toggleable__label-arrow\">RandomForestRegressor</label><div class=\"sk-toggleable__content\"><pre>RandomForestRegressor()</pre></div></div></div></div></div></div></div></div></div></div>"
      ],
      "text/plain": [
       "GridSearchCV(cv=5, estimator=RandomForestRegressor(),\n",
       "             param_grid={'max_features': [1, 2, 3, 4, 5, 6, 7, 8, 10, 20],\n",
       "                         'n_estimators': [3, 5, 10, 20, 30, 40, 50, 70, 80,\n",
       "                                          100]},\n",
       "             scoring='neg_mean_squared_error')"
      ]
     },
     "execution_count": 278,
     "metadata": {},
     "output_type": "execute_result"
    }
   ],
   "source": [
    "grid_s.fit(X_train,y_train)"
   ]
  },
  {
   "cell_type": "code",
   "execution_count": 279,
   "metadata": {},
   "outputs": [
    {
     "data": {
      "text/plain": [
       "{'max_features': 10, 'n_estimators': 100}"
      ]
     },
     "execution_count": 279,
     "metadata": {},
     "output_type": "execute_result"
    }
   ],
   "source": [
    "grid_s.best_params_"
   ]
  },
  {
   "cell_type": "code",
   "execution_count": 280,
   "metadata": {},
   "outputs": [
    {
     "name": "stdout",
     "output_type": "stream",
     "text": [
      "75184.62049444111      {'max_features': 1, 'n_estimators': 3}\n",
      "70339.95650031272      {'max_features': 1, 'n_estimators': 5}\n",
      "65135.8180820788      {'max_features': 1, 'n_estimators': 10}\n",
      "63501.456435212145      {'max_features': 1, 'n_estimators': 20}\n",
      "62764.903899140074      {'max_features': 1, 'n_estimators': 30}\n",
      "62130.32204278347      {'max_features': 1, 'n_estimators': 40}\n",
      "61602.02601258557      {'max_features': 1, 'n_estimators': 50}\n",
      "61495.88384206095      {'max_features': 1, 'n_estimators': 70}\n",
      "61414.563279077796      {'max_features': 1, 'n_estimators': 80}\n",
      "61209.382019456796      {'max_features': 1, 'n_estimators': 100}\n",
      "72812.95304828933      {'max_features': 2, 'n_estimators': 3}\n",
      "68587.12068531645      {'max_features': 2, 'n_estimators': 5}\n",
      "64248.95489425172      {'max_features': 2, 'n_estimators': 10}\n",
      "61911.082585685275      {'max_features': 2, 'n_estimators': 20}\n",
      "61067.734381868606      {'max_features': 2, 'n_estimators': 30}\n",
      "60563.88123992061      {'max_features': 2, 'n_estimators': 40}\n",
      "60090.68771480426      {'max_features': 2, 'n_estimators': 50}\n",
      "59525.60120188731      {'max_features': 2, 'n_estimators': 70}\n",
      "59830.91034866826      {'max_features': 2, 'n_estimators': 80}\n",
      "59577.56696449453      {'max_features': 2, 'n_estimators': 100}\n",
      "70649.77387418944      {'max_features': 3, 'n_estimators': 3}\n",
      "66396.81868256368      {'max_features': 3, 'n_estimators': 5}\n",
      "62201.08811937596      {'max_features': 3, 'n_estimators': 10}\n",
      "59880.11662866607      {'max_features': 3, 'n_estimators': 20}\n",
      "58817.345217366914      {'max_features': 3, 'n_estimators': 30}\n",
      "58592.42603912325      {'max_features': 3, 'n_estimators': 40}\n",
      "58454.242157340384      {'max_features': 3, 'n_estimators': 50}\n",
      "58155.21863725715      {'max_features': 3, 'n_estimators': 70}\n",
      "58192.58895769056      {'max_features': 3, 'n_estimators': 80}\n",
      "57963.01965438999      {'max_features': 3, 'n_estimators': 100}\n",
      "68911.88068690234      {'max_features': 4, 'n_estimators': 3}\n",
      "64695.37142209089      {'max_features': 4, 'n_estimators': 5}\n",
      "60648.415615173864      {'max_features': 4, 'n_estimators': 10}\n",
      "58959.61887531921      {'max_features': 4, 'n_estimators': 20}\n",
      "57583.65961143356      {'max_features': 4, 'n_estimators': 30}\n",
      "57508.441725671815      {'max_features': 4, 'n_estimators': 40}\n",
      "56854.28726976057      {'max_features': 4, 'n_estimators': 50}\n",
      "57012.520191132455      {'max_features': 4, 'n_estimators': 70}\n",
      "56779.48731633012      {'max_features': 4, 'n_estimators': 80}\n",
      "56785.18500946075      {'max_features': 4, 'n_estimators': 100}\n",
      "69274.47469236031      {'max_features': 5, 'n_estimators': 3}\n",
      "62970.43129495767      {'max_features': 5, 'n_estimators': 5}\n",
      "58565.768162863664      {'max_features': 5, 'n_estimators': 10}\n",
      "57379.49801796739      {'max_features': 5, 'n_estimators': 20}\n",
      "57071.458529127114      {'max_features': 5, 'n_estimators': 30}\n",
      "56203.17611807223      {'max_features': 5, 'n_estimators': 40}\n",
      "55897.05746648521      {'max_features': 5, 'n_estimators': 50}\n",
      "55783.43285276899      {'max_features': 5, 'n_estimators': 70}\n",
      "55835.59187971187      {'max_features': 5, 'n_estimators': 80}\n",
      "55588.10593075046      {'max_features': 5, 'n_estimators': 100}\n",
      "66932.15267014713      {'max_features': 6, 'n_estimators': 3}\n",
      "62863.58789091252      {'max_features': 6, 'n_estimators': 5}\n",
      "58816.59802581846      {'max_features': 6, 'n_estimators': 10}\n",
      "56768.250956224554      {'max_features': 6, 'n_estimators': 20}\n",
      "55964.778358664305      {'max_features': 6, 'n_estimators': 30}\n",
      "56046.565897700384      {'max_features': 6, 'n_estimators': 40}\n",
      "55294.83670541135      {'max_features': 6, 'n_estimators': 50}\n",
      "55406.90730829108      {'max_features': 6, 'n_estimators': 70}\n",
      "54899.76135427248      {'max_features': 6, 'n_estimators': 80}\n",
      "55150.738138750996      {'max_features': 6, 'n_estimators': 100}\n",
      "64765.863497465296      {'max_features': 7, 'n_estimators': 3}\n",
      "62591.16686944993      {'max_features': 7, 'n_estimators': 5}\n",
      "58393.745364729584      {'max_features': 7, 'n_estimators': 10}\n",
      "56452.17268282089      {'max_features': 7, 'n_estimators': 20}\n",
      "55471.62475562838      {'max_features': 7, 'n_estimators': 30}\n",
      "55138.90534626082      {'max_features': 7, 'n_estimators': 40}\n",
      "54682.641815586496      {'max_features': 7, 'n_estimators': 50}\n",
      "54680.43607207788      {'max_features': 7, 'n_estimators': 70}\n",
      "54520.0886507686      {'max_features': 7, 'n_estimators': 80}\n",
      "54640.47767496915      {'max_features': 7, 'n_estimators': 100}\n",
      "66629.30210464988      {'max_features': 8, 'n_estimators': 3}\n",
      "61357.067781758196      {'max_features': 8, 'n_estimators': 5}\n",
      "57544.63546853487      {'max_features': 8, 'n_estimators': 10}\n",
      "55689.37418111737      {'max_features': 8, 'n_estimators': 20}\n",
      "55044.35087531488      {'max_features': 8, 'n_estimators': 30}\n",
      "54910.590816816664      {'max_features': 8, 'n_estimators': 40}\n",
      "54720.071084572504      {'max_features': 8, 'n_estimators': 50}\n",
      "54439.651435256215      {'max_features': 8, 'n_estimators': 70}\n",
      "54170.07762270204      {'max_features': 8, 'n_estimators': 80}\n",
      "54348.86944997247      {'max_features': 8, 'n_estimators': 100}\n",
      "65188.57831370738      {'max_features': 10, 'n_estimators': 3}\n",
      "60899.6443082782      {'max_features': 10, 'n_estimators': 5}\n",
      "56957.17415617587      {'max_features': 10, 'n_estimators': 10}\n",
      "55591.935077641974      {'max_features': 10, 'n_estimators': 20}\n",
      "54511.1440266355      {'max_features': 10, 'n_estimators': 30}\n",
      "54526.74659577684      {'max_features': 10, 'n_estimators': 40}\n",
      "54312.14861650112      {'max_features': 10, 'n_estimators': 50}\n",
      "54067.68201663702      {'max_features': 10, 'n_estimators': 70}\n",
      "54113.03324265389      {'max_features': 10, 'n_estimators': 80}\n",
      "53894.04793389481      {'max_features': 10, 'n_estimators': 100}\n",
      "64879.85668732027      {'max_features': 20, 'n_estimators': 3}\n",
      "60013.280764882154      {'max_features': 20, 'n_estimators': 5}\n",
      "57748.24341987565      {'max_features': 20, 'n_estimators': 10}\n",
      "56041.567007509875      {'max_features': 20, 'n_estimators': 20}\n",
      "55636.254069036164      {'max_features': 20, 'n_estimators': 30}\n",
      "55253.051548925745      {'max_features': 20, 'n_estimators': 40}\n",
      "54973.58858185741      {'max_features': 20, 'n_estimators': 50}\n",
      "55050.37894767423      {'max_features': 20, 'n_estimators': 70}\n",
      "54889.70247791428      {'max_features': 20, 'n_estimators': 80}\n",
      "54937.16045223959      {'max_features': 20, 'n_estimators': 100}\n"
     ]
    }
   ],
   "source": [
    "for mean_score,params in zip((grid_s.cv_results_['mean_test_score']),\n",
    "                             (grid_s.cv_results_['params'])):\n",
    "    print(np.sqrt(-mean_score),'    ',params)"
   ]
  },
  {
   "cell_type": "markdown",
   "metadata": {},
   "source": [
    "Dapat dilihat hasil dari seluruh mean_test_score dengan menggunakan semua parameter yang ditentukan untuk melihat dengan rinci hasil dari semua parameter dan parameter terbaik adalah 'max_features': 10, 'n_estimators': 100\n",
    "\n",
    "hasil ini juga menunjukkan dengan melalukan parameter tuning, nilai mean yang dihasilkan menjadi sedikit lebih baik dari (54411.22698704475) menjadi (53955.13857298006)"
   ]
  },
  {
   "cell_type": "code",
   "execution_count": 281,
   "metadata": {},
   "outputs": [],
   "source": [
    "predictions = grid_s.best_estimator_.predict(X_test)"
   ]
  },
  {
   "cell_type": "code",
   "execution_count": 282,
   "metadata": {},
   "outputs": [
    {
     "data": {
      "text/plain": [
       "array([115400., 166100., 202900., 138000., 231800., 127900., 139300.,\n",
       "       197100., 148000., 163300.])"
      ]
     },
     "execution_count": 282,
     "metadata": {},
     "output_type": "execute_result"
    }
   ],
   "source": [
    "y_test[0:10].values"
   ]
  },
  {
   "cell_type": "code",
   "execution_count": 283,
   "metadata": {},
   "outputs": [
    {
     "data": {
      "text/html": [
       "<div>\n",
       "<style scoped>\n",
       "    .dataframe tbody tr th:only-of-type {\n",
       "        vertical-align: middle;\n",
       "    }\n",
       "\n",
       "    .dataframe tbody tr th {\n",
       "        vertical-align: top;\n",
       "    }\n",
       "\n",
       "    .dataframe thead th {\n",
       "        text-align: right;\n",
       "    }\n",
       "</style>\n",
       "<table border=\"1\" class=\"dataframe\">\n",
       "  <thead>\n",
       "    <tr style=\"text-align: right;\">\n",
       "      <th></th>\n",
       "      <th>Y Test</th>\n",
       "      <th>Predictions</th>\n",
       "    </tr>\n",
       "  </thead>\n",
       "  <tbody>\n",
       "    <tr>\n",
       "      <th>0</th>\n",
       "      <td>115400.0</td>\n",
       "      <td>114310.00</td>\n",
       "    </tr>\n",
       "    <tr>\n",
       "      <th>1</th>\n",
       "      <td>166100.0</td>\n",
       "      <td>153872.01</td>\n",
       "    </tr>\n",
       "    <tr>\n",
       "      <th>2</th>\n",
       "      <td>202900.0</td>\n",
       "      <td>196528.00</td>\n",
       "    </tr>\n",
       "    <tr>\n",
       "      <th>3</th>\n",
       "      <td>138000.0</td>\n",
       "      <td>146421.00</td>\n",
       "    </tr>\n",
       "    <tr>\n",
       "      <th>4</th>\n",
       "      <td>231800.0</td>\n",
       "      <td>213207.00</td>\n",
       "    </tr>\n",
       "    <tr>\n",
       "      <th>5</th>\n",
       "      <td>127900.0</td>\n",
       "      <td>124184.00</td>\n",
       "    </tr>\n",
       "    <tr>\n",
       "      <th>6</th>\n",
       "      <td>139300.0</td>\n",
       "      <td>115811.00</td>\n",
       "    </tr>\n",
       "    <tr>\n",
       "      <th>7</th>\n",
       "      <td>197100.0</td>\n",
       "      <td>224735.00</td>\n",
       "    </tr>\n",
       "    <tr>\n",
       "      <th>8</th>\n",
       "      <td>148000.0</td>\n",
       "      <td>164789.01</td>\n",
       "    </tr>\n",
       "    <tr>\n",
       "      <th>9</th>\n",
       "      <td>163300.0</td>\n",
       "      <td>156336.00</td>\n",
       "    </tr>\n",
       "  </tbody>\n",
       "</table>\n",
       "</div>"
      ],
      "text/plain": [
       "     Y Test  Predictions\n",
       "0  115400.0    114310.00\n",
       "1  166100.0    153872.01\n",
       "2  202900.0    196528.00\n",
       "3  138000.0    146421.00\n",
       "4  231800.0    213207.00\n",
       "5  127900.0    124184.00\n",
       "6  139300.0    115811.00\n",
       "7  197100.0    224735.00\n",
       "8  148000.0    164789.01\n",
       "9  163300.0    156336.00"
      ]
     },
     "execution_count": 283,
     "metadata": {},
     "output_type": "execute_result"
    }
   ],
   "source": [
    "comparison = pd.DataFrame({'Y Test': y_test[0:10].values,\n",
    "                          'Predictions' : predictions[0:10]})\n",
    "comparison"
   ]
  },
  {
   "cell_type": "markdown",
   "metadata": {},
   "source": [
    "Selisih paling sedikit: 115400 - 115251 = 1090 (0.94%)\n",
    "\n",
    "selisih paling banyak: 231800 - 213207 = 27635 (11.92%)"
   ]
  },
  {
   "cell_type": "code",
   "execution_count": 290,
   "metadata": {},
   "outputs": [],
   "source": [
    "def regression_evaluation(preds):\n",
    "    mse = mean_squared_error(y_test,preds)\n",
    "    rmse = np.sqrt(mse)\n",
    "    r_squared = r2_score(y_test,preds)\n",
    "    mae = mean_absolute_error(y_test,preds)\n",
    "    \n",
    "    print(f\"Mean Absolute Error: {mae} \\nMean Squared Error:{mse} \\nRoot Mean Squared Error:{rmse} \\nR Squared Value:{r_squared}\")"
   ]
  },
  {
   "cell_type": "code",
   "execution_count": 291,
   "metadata": {},
   "outputs": [
    {
     "name": "stdout",
     "output_type": "stream",
     "text": [
      "Mean Absolute Error: 34660.74764705882 \n",
      "Mean Squared Error:2660181624.0688815 \n",
      "Root Mean Squared Error:51576.94857268004 \n",
      "R Squared Value:0.8007509182646917\n"
     ]
    }
   ],
   "source": [
    "regression_evaluation(predictions)"
   ]
  },
  {
   "cell_type": "markdown",
   "metadata": {},
   "source": [
    "Terdapat perbedaan antara nilai RMSE dan MAE, nilai RMSE lebih tinggi dari nilai MAE karena nilai error nya dikuadratkan terlebih dahulu sebelum di rata-ratakan. Hal ini menyebabkan RMSE akan memberikan 'weight' yang lebih tinggi untuk nilai error yang besar."
   ]
  },
  {
   "cell_type": "code",
   "execution_count": 286,
   "metadata": {},
   "outputs": [
    {
     "data": {
      "image/png": "[encoded data removed]",
      "text/plain": [
       "<Figure size 720x432 with 1 Axes>"
      ]
     },
     "metadata": {
      "needs_background": "light"
     },
     "output_type": "display_data"
    }
   ],
   "source": [
    "plt.figure(figsize= (10, 6))\n",
    "sns.scatterplot(x= y_test, y=predictions, color= '#005b96')\n",
    "plt.xlabel('Actual House value')\n",
    "plt.ylabel('Predicted House Value')\n",
    "plt.show()"
   ]
  },
  {
   "cell_type": "code",
   "execution_count": 287,
   "metadata": {},
   "outputs": [
    {
     "data": {
      "image/png": "[encoded data removed]",
      "text/plain": [
       "<Figure size 720x432 with 1 Axes>"
      ]
     },
     "metadata": {
      "needs_background": "light"
     },
     "output_type": "display_data"
    }
   ],
   "source": [
    "resid = y_test - predictions\n",
    "plt.figure(figsize= (10, 6))\n",
    "sns.histplot(resid)\n",
    "plt.xlabel('Error');"
   ]
  },
  {
   "cell_type": "markdown",
   "metadata": {},
   "source": [
    "Distribusi error terlihat baik, jumlah error tinggi tidak banyak"
   ]
  },
  {
   "cell_type": "code",
   "execution_count": 289,
   "metadata": {},
   "outputs": [],
   "source": [
    "# Save model\n",
    "import pickle\n",
    "\n",
    "\n",
    "pickle.dump(RandForest, open('Model_California_house.sav', 'wb'))"
   ]
  },
  {
   "cell_type": "markdown",
   "metadata": {},
   "source": [
    "### Conclusion"
   ]
  },
  {
   "cell_type": "markdown",
   "metadata": {},
   "source": [
    "- Berdasarkan pemodelan yang telah dilakukan. fitur median_house_value menjadi fitur yang paling penting dan median_income menjadi fitur yang memiliki koreladi positif paling kuat terhadap fitur median_house_value dibandingkan dengan fitur lainnya. \n",
    "\n",
    "- Metric evaluasion yang digunakan pada model ini adalah nilai RMSE dan MAE dengan nilai RMSE terbaik yang didapatkan adalah 51576.94857268004 dan nilai MAE terbaik yang didapatkan adalah 34660.74764705882 \n",
    "\n",
    "- Hasil perbandingan harga antara \"Y test\" dengan \"Prediction\" menunjukkan bahwa:\n",
    "\n",
    "    Selisih paling sedikit: 115400 - 115251 = 1090 (0.94%)\n",
    "\n",
    "    selisih paling banyak: 231800 - 213207 = 27635 (11.92%)\n",
    "    salah satu prediksi yang dihasilkan oleh model ini bisa melenceng dari harga sebenernya dengan persentase 11.92%"
   ]
  },
  {
   "cell_type": "markdown",
   "metadata": {},
   "source": [
    "### Recomendation"
   ]
  },
  {
   "cell_type": "markdown",
   "metadata": {},
   "source": [
    "Untuk mengembangkan model menjadi lebih baik, ada beberapa hal yang bisa dilakukan yaitu:\n",
    "1. menambahkan banyak data sehingga model bisa mengambil pola dari dataset lebih banyak sehingga bisa menghasilkan model yang lebih baik\n",
    "2. menambahkan fitur yang lebih berkorelasi dengan fitur *median_house_value*\n",
    "3. menggunakan RandomizedSearchCV untuk mendapatkan hasil tuning yang berbeda"
   ]
  },
  {
   "cell_type": "markdown",
   "metadata": {},
   "source": []
  }
 ],
 "metadata": {
  "kernelspec": {
   "display_name": "Python 3.9.13 64-bit",
   "language": "python",
   "name": "python3"
  },
  "language_info": {
   "codemirror_mode": {
    "name": "ipython",
    "version": 3
   },
   "file_extension": ".py",
   "mimetype": "text/x-python",
   "name": "python",
   "nbconvert_exporter": "python",
   "pygments_lexer": "ipython3",
   "version": "3.9.13"
  },
  "orig_nbformat": 4,
  "vscode": {
   "interpreter": {
    "hash": "2258b7f37a11bab4ff8595545d3391aa26eaaa3a16312b5642730a10d805d7af"
   }
  }
 },
 "nbformat": 4,
 "nbformat_minor": 2
}
